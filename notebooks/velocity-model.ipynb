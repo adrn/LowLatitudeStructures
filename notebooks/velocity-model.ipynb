{
 "cells": [
  {
   "cell_type": "markdown",
   "metadata": {},
   "source": [
    "Ally wants:\n",
    "\n",
    "1. v_GSR vs. l for M giants (top) and RR Lyrae (bottom) for A13, with best-fit M giant sequence over-plotted on RR Lyrae panel\n",
    "2. f_RR:MG sample histogram for A13\n",
    "3. same as (1) but for GASS\n",
    "4. same as (2) but for GASS\n",
    "5. f_RR:MG sample histogram for combined analysis?"
   ]
  },
  {
   "cell_type": "code",
   "execution_count": null,
   "metadata": {
    "collapsed": true
   },
   "outputs": [],
   "source": [
    "import os\n",
    "import sys\n",
    "_path = os.path.abspath('../')\n",
    "if _path not in sys.path:\n",
    "    sys.path.insert(0, _path)\n",
    "\n",
    "import matplotlib as mpl\n",
    "from matplotlib.gridspec import GridSpec\n",
    "import matplotlib.pyplot as plt\n",
    "plt.style.use('apw-notebook')\n",
    "%matplotlib inline\n",
    "import numpy as np\n",
    "\n",
    "import astropy.units as u\n",
    "from astropy.io import ascii\n",
    "from astropy.table import vstack\n",
    "import astropy.coordinates as coord\n",
    "import gala.coordinates as gc\n",
    "import emcee\n",
    "import corner\n",
    "\n",
    "from lowlats.likelihood import LinearVelocityModel"
   ]
  },
  {
   "cell_type": "code",
   "execution_count": null,
   "metadata": {
    "collapsed": true
   },
   "outputs": [],
   "source": [
    "# structure_name = 'Mon/GASS'\n",
    "# structure_name = 'A13'\n",
    "structure_name = 'Mon/GASS + A13'\n",
    "l0 = 150. # reference longitude in degrees"
   ]
  },
  {
   "cell_type": "code",
   "execution_count": null,
   "metadata": {
    "collapsed": true
   },
   "outputs": [],
   "source": [
    "data = ascii.read('../data/all_mg_rr.ecsv', format='ecsv')\n",
    "\n",
    "if structure_name != 'Mon/GASS + A13':\n",
    "    data = data[(data['structure'] == structure_name) & \n",
    "                 np.isfinite(data['v_gsr']) & \n",
    "                 np.isfinite(data['v_err'])]\n",
    "else:\n",
    "    data = data[( ((data['structure'] == 'Mon/GASS') | (data['structure'] == 'A13')) & \n",
    "                 np.isfinite(data['v_gsr']) & np.isfinite(data['v_err']))]"
   ]
  },
  {
   "cell_type": "code",
   "execution_count": null,
   "metadata": {},
   "outputs": [],
   "source": [
    "mg = data[data['tracer'] == 'MG']\n",
    "rr = data[data['tracer'] == 'RRL']\n",
    "len(mg), len(rr)"
   ]
  },
  {
   "cell_type": "code",
   "execution_count": null,
   "metadata": {
    "collapsed": true
   },
   "outputs": [],
   "source": [
    "mg_style = dict(color='#ca0020', alpha=0.5)\n",
    "rr_style = dict(color='#0571b0', alpha=0.5)"
   ]
  },
  {
   "cell_type": "code",
   "execution_count": null,
   "metadata": {},
   "outputs": [],
   "source": [
    "plt.scatter(mg['l'], mg['v_gsr'], **mg_style)\n",
    "plt.scatter(rr['l'], rr['v_gsr'], **rr_style)"
   ]
  },
  {
   "cell_type": "code",
   "execution_count": null,
   "metadata": {
    "collapsed": true
   },
   "outputs": [],
   "source": [
    "model = LinearVelocityModel(rrlyrae=rr, mgiants=mg, halo_sigma_v=100., frozen=dict(l0=l0))"
   ]
  },
  {
   "cell_type": "code",
   "execution_count": null,
   "metadata": {},
   "outputs": [],
   "source": [
    "plt.scatter(mg['l']-l0, mg['v_gsr'], **mg_style)\n",
    "plt.scatter(rr['l']-l0, rr['v_gsr'], **rr_style)\n",
    "\n",
    "l_grid = np.linspace(data['l'].min(), data['l'].max(), 128) - l0\n",
    "dv_dl0 = -1.\n",
    "v0 = 10\n",
    "plt.plot(l_grid, dv_dl0*l_grid + v0, marker='None')"
   ]
  },
  {
   "cell_type": "code",
   "execution_count": null,
   "metadata": {},
   "outputs": [],
   "source": [
    "p0 = model.pack_pars(dv_dl=dv_dl0, v0=v0, lnV=np.log(25**2), f_mg=0.9, f_rr=0.5)[:-1]"
   ]
  },
  {
   "cell_type": "markdown",
   "metadata": {},
   "source": [
    "## MCMC parameters"
   ]
  },
  {
   "cell_type": "code",
   "execution_count": null,
   "metadata": {
    "collapsed": true
   },
   "outputs": [],
   "source": [
    "n_walkers = 128"
   ]
  },
  {
   "cell_type": "markdown",
   "metadata": {},
   "source": [
    "## Initial conditions for walkers"
   ]
  },
  {
   "cell_type": "code",
   "execution_count": null,
   "metadata": {
    "collapsed": true
   },
   "outputs": [],
   "source": [
    "p0s = emcee.utils.sample_ball(p0, std=np.full_like(p0, 1E-3), size=n_walkers)"
   ]
  },
  {
   "cell_type": "code",
   "execution_count": null,
   "metadata": {
    "collapsed": true
   },
   "outputs": [],
   "source": [
    "sampler = emcee.EnsembleSampler(n_walkers, len(p0), lnpostfn=model)"
   ]
  },
  {
   "cell_type": "code",
   "execution_count": null,
   "metadata": {},
   "outputs": [],
   "source": [
    "pos,prob,state,_ = sampler.run_mcmc(p0s, N=128)\n",
    "sampler.reset()\n",
    "# pos[pos[:,1] < 200,1] = np.random.normal(250, 0.1, size=(pos[:,1] < 200).sum())\n",
    "pos[pos[:,2] < 6,2] = 6\n",
    "pos[pos[:,3] < 0.5,3] = 0.9\n",
    "pos,prob,state,_ = sampler.run_mcmc(pos, N=256)\n",
    "sampler.reset()\n",
    "pos,prob,state,_ = sampler.run_mcmc(pos, N=1024)"
   ]
  },
  {
   "cell_type": "code",
   "execution_count": null,
   "metadata": {
    "scrolled": true
   },
   "outputs": [],
   "source": [
    "sampler.chain.shape"
   ]
  },
  {
   "cell_type": "code",
   "execution_count": null,
   "metadata": {},
   "outputs": [],
   "source": [
    "for k in range(sampler.chain.shape[-1]):\n",
    "    plt.figure()\n",
    "    for i in range(sampler.chain.shape[0]):\n",
    "        plt.plot(sampler.chain[i,:,k], marker='None', drawstyle='steps', color='k', alpha=0.1)\n",
    "    plt.title(model._param_names[k])"
   ]
  },
  {
   "cell_type": "code",
   "execution_count": null,
   "metadata": {
    "collapsed": true
   },
   "outputs": [],
   "source": [
    "# flatchain = np.vstack(sampler.chain[:,1024::16])\n",
    "flatchain = np.vstack(sampler.chain[:,::4])\n",
    "flatchain[:,2] = np.sqrt(np.exp(flatchain[:,2]))"
   ]
  },
  {
   "cell_type": "code",
   "execution_count": null,
   "metadata": {
    "scrolled": false
   },
   "outputs": [],
   "source": [
    "labels = [r'${{\\rm d}}v/{{\\rm d}}l$ [{0} ${{\\rm deg}}^{{-1}}$]'.format((u.km/u.s).to_string('latex_inline')), \n",
    "          r'$v_0$ [{0}]'.format((u.km/u.s).to_string('latex_inline')), \n",
    "          r'$\\sigma_v$ [{0}]'.format((u.km/u.s).to_string('latex_inline')), \n",
    "          r'$f_{\\rm MG}$', \n",
    "          r'$f_{\\rm RR}$']\n",
    "extents = [(-1.8,0.2), (-40,40), (7,37), (0,1), (0,1)]\n",
    "\n",
    "fig = corner.corner(flatchain, labels=labels, range=extents, plot_datapoints=False)\n",
    "# fig.subplots_adjust(left=0.14, bottom=0.14, wspace=0.11, hspace=0.11)\n",
    "# fig.savefig(\"../posterior.pdf\")"
   ]
  },
  {
   "cell_type": "code",
   "execution_count": null,
   "metadata": {
    "scrolled": true
   },
   "outputs": [],
   "source": [
    "print(np.mean(flatchain[:,0]), np.std(flatchain[:,0]))\n",
    "print(np.mean(flatchain[:,1]), np.std(flatchain[:,1]))\n",
    "print(np.mean(flatchain[:,2]), np.std(flatchain[:,2]))"
   ]
  },
  {
   "cell_type": "markdown",
   "metadata": {},
   "source": [
    "### Numbers for paper"
   ]
  },
  {
   "cell_type": "code",
   "execution_count": null,
   "metadata": {
    "collapsed": true
   },
   "outputs": [],
   "source": [
    "map_dv_dl, map_v0, map_lnV, map_f_mg, map_f_rr = sampler.flatchain[sampler.flatlnprobability.argmax()]"
   ]
  },
  {
   "cell_type": "code",
   "execution_count": null,
   "metadata": {},
   "outputs": [],
   "source": [
    "map_sigma = np.sqrt(np.exp(map_lnV))\n",
    "map_sigma"
   ]
  },
  {
   "cell_type": "code",
   "execution_count": null,
   "metadata": {},
   "outputs": [],
   "source": [
    "print(map_f_mg, map_f_mg * len(mg))\n",
    "print(map_f_rr) #, map_f_rrl * 141.)"
   ]
  },
  {
   "cell_type": "code",
   "execution_count": null,
   "metadata": {},
   "outputs": [],
   "source": [
    "# number of M giants in longitude range of RR Lyrae\n",
    "N_mg_raw = ((mg['l'] > rr['l'].min()) & (mg['l'] < rr['l'].max())).sum()\n",
    "\n",
    "if structure_name == 'Mon/GASS':\n",
    "    N_rr_ps1 = 299 # GASS\n",
    "elif structure_name == 'A13':\n",
    "    N_rr_ps1 = 101 # A13\n",
    "else: # both\n",
    "    N_rr_ps1 = 299+101\n",
    "\n",
    "N_mg = map_f_mg * N_mg_raw\n",
    "N_rr = map_f_rr * N_rr_ps1\n",
    "N_rr / N_mg"
   ]
  },
  {
   "cell_type": "code",
   "execution_count": null,
   "metadata": {
    "collapsed": true
   },
   "outputs": [],
   "source": [
    "f_rrmg = (flatchain[:,4] * N_rr_ps1) / (flatchain[:,3] * N_mg_raw)"
   ]
  },
  {
   "cell_type": "code",
   "execution_count": null,
   "metadata": {},
   "outputs": [],
   "source": [
    "fig,axes = plt.subplots(1,1,figsize=(6,6))\n",
    "\n",
    "# frrl = sampler.flatchain[:,5]\n",
    "axes.hist(f_rrmg, bins=np.linspace(0,1.,25), color='#666666', normed=True);\n",
    "axes.axvline(0.5, lw=3.)\n",
    "\n",
    "axes.plot([0.01,0.01], [0,4.5], lw=3., linestyle='--', marker=None, label='Disk')\n",
    "axes.fill_betweenx(y=np.linspace(0,4.5,5), x1=0.42, x2=0.58, color='#bbbbbb')\n",
    "# hack\n",
    "p2 = mpl.patches.Rectangle((0, 0), 0., 0., color='#cccccc', label='Sgr/LMC')\n",
    "axes.add_patch(p2)\n",
    "axes.set_xlim(-0.05,1.05)\n",
    "axes.set_ylim(0, 4.5)\n",
    "axes.set_xlabel(r\"$f_{\\rm RR:MG}$\")\n",
    "axes.set_ylabel(r\"pdf\")\n",
    "axes.legend(fontsize=16)\n",
    "axes.set_title(structure_name)\n",
    "\n",
    "fig.savefig('../frrmg_{0}.pdf'.format(structure_name.replace('/', '_')))"
   ]
  },
  {
   "cell_type": "markdown",
   "metadata": {},
   "source": [
    "### Membership probabilities"
   ]
  },
  {
   "cell_type": "code",
   "execution_count": null,
   "metadata": {},
   "outputs": [],
   "source": [
    "sampler.chain.shape[1]"
   ]
  },
  {
   "cell_type": "code",
   "execution_count": null,
   "metadata": {
    "collapsed": true
   },
   "outputs": [],
   "source": [
    "norm = 0.0\n",
    "mg_mem_prob = np.zeros(len(mg))\n",
    "rr_mem_prob = np.zeros(len(rr))\n",
    "for i in range(sampler.chain.shape[1]):\n",
    "    for j in range(sampler.chain.shape[0]):\n",
    "        ll_bg, ll_fg, ll_bg_rr, ll_fg_rr = sampler.blobs[i][j]\n",
    "        mg_mem_prob += np.exp(ll_fg - np.logaddexp(ll_fg, ll_bg))\n",
    "        rr_mem_prob += np.exp(ll_fg_rr - np.logaddexp(ll_fg_rr, ll_bg_rr))\n",
    "        norm += 1\n",
    "mg_mem_prob /= norm\n",
    "rr_mem_prob /= norm"
   ]
  },
  {
   "cell_type": "code",
   "execution_count": null,
   "metadata": {
    "scrolled": true
   },
   "outputs": [],
   "source": [
    "(mg_mem_prob > 0.5).sum(), (rr_mem_prob > 0.5).sum()"
   ]
  },
  {
   "cell_type": "code",
   "execution_count": null,
   "metadata": {
    "collapsed": true
   },
   "outputs": [],
   "source": [
    "mem_prob_thresh = 0.5\n",
    "style = dict(marker='o', ms=5, linestyle='none', ecolor='#cccccc', elinewidth=2, zorder=10)\n",
    "xlim = (260, 120)\n",
    "ylim = (-300, 300)"
   ]
  },
  {
   "cell_type": "code",
   "execution_count": null,
   "metadata": {},
   "outputs": [],
   "source": [
    "fig,axes = plt.subplots(2, 1, figsize=(10,9), sharex=True, sharey=True)\n",
    "\n",
    "ax = axes[0]\n",
    "\n",
    "members = mg_mem_prob > mem_prob_thresh\n",
    "ax.errorbar(mg['l'][members], mg['v_gsr'][members], mg['v_err'][members], \n",
    "            color='k', label='$P>{0:.1f}$'.format(mem_prob_thresh), **style)\n",
    "ax.errorbar(mg['l'][~members], mg['v_gsr'][~members], mg['v_err'][~members], \n",
    "            color='#777777', label='$P\\leq {0:.1f}$'.format(mem_prob_thresh), \n",
    "            **style)\n",
    "\n",
    "ax.set_xlim(xlim)\n",
    "ax.set_ylim(ylim)\n",
    "ax.set_ylabel(r\"$v_{\\rm GSR}\\,[{\\rm km} \\, {\\rm s}^{-1}]$\")\n",
    "\n",
    "ax.yaxis.set_ticks(np.arange(ylim[0], ylim[1]+1, 100))\n",
    "\n",
    "ax.legend(loc='upper left', fontsize=16)\n",
    "ax.text(255, -275, r'M giant', ha='left', va='bottom', fontsize=20)\n",
    "\n",
    "# ------------------\n",
    "# Bottom\n",
    "\n",
    "ax = axes[1]\n",
    "\n",
    "members = rr_mem_prob > mem_prob_thresh\n",
    "ax.errorbar(rr['l'][members], rr['v_gsr'][members], rr['v_err'][members], \n",
    "             color='k', **style)\n",
    "ax.errorbar(rr['l'][~members], rr['v_gsr'][~members], rr['v_err'][~members], \n",
    "             color='#777777', **style)\n",
    "\n",
    "ax.set_xlabel(r\"$l\\,{\\rm [deg]}$\", fontsize=26)\n",
    "ax.set_ylabel(r\"$v_{\\rm GSR}\\,[{\\rm km} \\, {\\rm s}^{-1}]$\")\n",
    "\n",
    "# lines\n",
    "trend_style = dict(color=mg_style['color'], alpha=0.6, \n",
    "                   marker='None', zorder=-10)\n",
    "ls = np.linspace(*ax.get_xlim(), 256)\n",
    "ax.plot(ls, map_dv_dl*(ls-l0) + map_v0, linestyle='-', lw=2., **trend_style)\n",
    "ax.plot(ls, map_dv_dl*(ls-l0) + map_v0 + map_sigma, linestyle='--', **trend_style)\n",
    "ax.plot(ls, map_dv_dl*(ls-l0) + map_v0 - map_sigma, linestyle='--', **trend_style)\n",
    "\n",
    "ax.text(255, 275, r'RR Lyrae', ha='left', va='top', fontsize=20)\n",
    "\n",
    "axes[0].set_title(structure_name, fontsize=32)\n",
    "fig.subplots_adjust(wspace=0, hspace=0)\n",
    "fig.savefig(\"../data_{0}.pdf\".format(structure_name.replace('/', '_')))"
   ]
  },
  {
   "cell_type": "code",
   "execution_count": null,
   "metadata": {},
   "outputs": [],
   "source": [
    "mg['member probability'] = mg_mem_prob"
   ]
  },
  {
   "cell_type": "code",
   "execution_count": null,
   "metadata": {
    "collapsed": true
   },
   "outputs": [],
   "source": [
    "rr['member probability'] = rr_mem_prob"
   ]
  },
  {
   "cell_type": "code",
   "execution_count": null,
   "metadata": {},
   "outputs": [],
   "source": [
    "vstack((mg, rr)).write('../data/all_mg_rr_probs.ecsv', format='ascii.ecsv')"
   ]
  },
  {
   "cell_type": "code",
   "execution_count": null,
   "metadata": {
    "collapsed": true
   },
   "outputs": [],
   "source": []
  }
 ],
 "metadata": {
  "kernelspec": {
   "display_name": "Python [default]",
   "language": "python",
   "name": "python3"
  },
  "language_info": {
   "codemirror_mode": {
    "name": "ipython",
    "version": 3
   },
   "file_extension": ".py",
   "mimetype": "text/x-python",
   "name": "python",
   "nbconvert_exporter": "python",
   "pygments_lexer": "ipython3",
   "version": "3.5.2"
  }
 },
 "nbformat": 4,
 "nbformat_minor": 1
}