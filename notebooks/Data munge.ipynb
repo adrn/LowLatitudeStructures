{
 "cells": [
  {
   "cell_type": "code",
   "execution_count": null,
   "metadata": {
    "collapsed": true
   },
   "outputs": [],
   "source": [
    "from collections import OrderedDict\n",
    "import numpy as np\n",
    "\n",
    "from astropy.table import vstack\n",
    "import astropy.units as u\n",
    "from astropy.io import ascii\n",
    "import astropy.coordinates as coord\n",
    "import gala.coordinates as gc"
   ]
  },
  {
   "cell_type": "code",
   "execution_count": null,
   "metadata": {
    "collapsed": true
   },
   "outputs": [],
   "source": [
    "a13_mg = ascii.read(\"../data/a13_li17_mgiants.csv\")\n",
    "# HACK because...why\n",
    "ra = coord.Angle(a13_mg['RA'], unit=u.hourangle)\n",
    "dec = coord.Angle(a13_mg['DEC'], unit=u.degree)\n",
    "gal = coord.SkyCoord(ra=ra, dec=dec).galactic\n",
    "a13_mg['l'] = gal.l.degree\n",
    "a13_mg['b'] = gal.b.degree\n",
    "a13_mg.remove_column('RA')\n",
    "a13_mg.remove_column('DEC')\n",
    "a13_mg.rename_column('v_helio_final', 'v_hel')\n",
    "a13_mg['v_err'] = [5.5]*len(a13_mg)\n",
    "a13_mg['structure'] = ['A13']*len(a13_mg)\n",
    "a13_mg['tracer'] = ['MG']*len(a13_mg)\n",
    "\n",
    "a13_rr = ascii.read(\"../data/a13_rrlyrae.csv\")\n",
    "a13_rr.remove_column('vsys_gsr')\n",
    "a13_rr.rename_column('vsys_hel', 'v_hel')\n",
    "a13_rr.rename_column('evsys', 'v_err')\n",
    "a13_rr.rename_column('struct', 'structure')\n",
    "a13_rr['tracer'] = ['RRL']*len(a13_rr)"
   ]
  },
  {
   "cell_type": "code",
   "execution_count": null,
   "metadata": {
    "collapsed": true
   },
   "outputs": [],
   "source": [
    "gass_mg = ascii.read(\"../data/mongass_crane03_mgiants.csv\")\n",
    "ra = coord.Angle(gass_mg['RA'], unit=u.hourangle)\n",
    "dec = coord.Angle(gass_mg['Dec'], unit=u.degree)\n",
    "gal = coord.SkyCoord(ra=ra, dec=dec).galactic\n",
    "gass_mg['l'] = gal.l.degree\n",
    "gass_mg['b'] = gal.b.degree\n",
    "gass_mg.remove_column('RA')\n",
    "gass_mg.remove_column('Dec')\n",
    "gass_mg.rename_column('d', 'dist')\n",
    "gass_mg.remove_column('v_gsr')\n",
    "gass_mg['structure'] = ['Mon/GASS']*len(gass_mg)\n",
    "gass_mg['tracer'] = ['MG']*len(gass_mg)\n",
    "\n",
    "gass_rr = ascii.read(\"../data/mongass_rrlyrae.csv\")\n",
    "gass_rr.remove_column('vsys_gsr')\n",
    "gass_rr.rename_column('vsys_hel', 'v_hel')\n",
    "gass_rr.rename_column('evsys', 'v_err')\n",
    "gass_rr.rename_column('struct', 'structure')\n",
    "gass_rr['structure'] = ['Mon/GASS']*len(gass_rr)\n",
    "gass_rr['tracer'] = ['RRL']*len(gass_rr)"
   ]
  },
  {
   "cell_type": "code",
   "execution_count": null,
   "metadata": {
    "collapsed": true
   },
   "outputs": [],
   "source": [
    "triand_mg = ascii.read(\"../data/triand_sheffield14_mgiants.csv\")\n",
    "triand_mg = triand_mg[triand_mg['dwarf_giant'] == 'G']\n",
    "triand_mg.rename_column('vhel', 'v_hel')\n",
    "triand_mg.rename_column('verr', 'v_err')\n",
    "triand_mg.remove_column('ID')\n",
    "triand_mg.remove_column('S/N')\n",
    "triand_mg.remove_column('EW1')\n",
    "triand_mg.remove_column('EW2')\n",
    "triand_mg.remove_column('UT')\n",
    "triand_mg.remove_column('INST')\n",
    "triand_mg.remove_column('class')\n",
    "triand_mg['structure'] = ['TriAnd']*len(triand_mg)\n",
    "triand_mg['tracer'] = ['MG']*len(triand_mg)\n",
    "\n",
    "triand_rr = ascii.read(\"../data/triand_price-whelan15_rrlyrae.csv\")\n",
    "gal = coord.SkyCoord(ra=triand_rr['ra']*u.degree, dec=triand_rr['dec']*u.degree).galactic\n",
    "triand_rr['l'] = gal.l.degree\n",
    "triand_rr['b'] = gal.b.degree\n",
    "triand_rr.rename_column('name', 'target')\n",
    "triand_rr.rename_column('Vsys', 'v_hel')\n",
    "triand_rr.rename_column('Err', 'v_err')\n",
    "triand_rr.remove_column('v_ally')\n",
    "triand_rr.remove_column('verr_ally')\n",
    "triand_rr.remove_column('ra')\n",
    "triand_rr.remove_column('dec')\n",
    "triand_rr['structure'] = ['TriAnd']*len(triand_rr)\n",
    "triand_rr['tracer'] = ['RRL']*len(triand_rr)"
   ]
  },
  {
   "cell_type": "code",
   "execution_count": null,
   "metadata": {
    "collapsed": true,
    "scrolled": false
   },
   "outputs": [],
   "source": [
    "all_data = vstack((a13_mg, a13_rr, gass_mg, gass_rr, triand_mg, triand_rr))"
   ]
  },
  {
   "cell_type": "code",
   "execution_count": null,
   "metadata": {},
   "outputs": [],
   "source": [
    "len(all_data)"
   ]
  },
  {
   "cell_type": "markdown",
   "metadata": {},
   "source": [
    "## Compute GSR velocities for all stars"
   ]
  },
  {
   "cell_type": "code",
   "execution_count": null,
   "metadata": {
    "collapsed": true
   },
   "outputs": [],
   "source": [
    "c = coord.Galactic(l=all_data['l']*u.degree, b=all_data['b']*u.degree)\n",
    "v_gsr = gc.vhel_to_vgsr(c, all_data['v_hel']*u.km/u.s,\n",
    "                        vcirc=236.*u.km/u.s,\n",
    "                        vlsr=[11.1, 12.24, 7.25]*u.km/u.s)\n",
    "all_data['v_gsr'] = v_gsr.value"
   ]
  },
  {
   "cell_type": "code",
   "execution_count": null,
   "metadata": {
    "collapsed": true
   },
   "outputs": [],
   "source": [
    "mg = all_data[all_data['tracer'] == 'MG']\n",
    "rr = all_data[all_data['tracer'] == 'RRL']"
   ]
  },
  {
   "cell_type": "code",
   "execution_count": null,
   "metadata": {},
   "outputs": [],
   "source": [
    "plt.scatter(mg['l'], mg['v_gsr'])\n",
    "plt.scatter(rr['l'], rr['v_gsr'])"
   ]
  },
  {
   "cell_type": "code",
   "execution_count": null,
   "metadata": {},
   "outputs": [],
   "source": [
    "plt.hist(rr['v_gsr'], bins='auto');"
   ]
  },
  {
   "cell_type": "code",
   "execution_count": null,
   "metadata": {
    "collapsed": true
   },
   "outputs": [],
   "source": [
    "all_data['l'].unit = u.degree\n",
    "all_data['b'].unit = u.degree\n",
    "all_data['v_hel'].unit = u.km/u.s\n",
    "all_data['v_err'].unit = u.km/u.s\n",
    "all_data['v_gsr'].unit = u.km/u.s"
   ]
  },
  {
   "cell_type": "code",
   "execution_count": null,
   "metadata": {
    "collapsed": true
   },
   "outputs": [],
   "source": [
    "all_data.write('../data/all_mg_rr.ecsv', format='ascii.ecsv', overwrite=True)"
   ]
  },
  {
   "cell_type": "code",
   "execution_count": null,
   "metadata": {
    "collapsed": true
   },
   "outputs": [],
   "source": []
  }
 ],
 "metadata": {
  "kernelspec": {
   "display_name": "Python [default]",
   "language": "python",
   "name": "python3"
  },
  "language_info": {
   "codemirror_mode": {
    "name": "ipython",
    "version": 3
   },
   "file_extension": ".py",
   "mimetype": "text/x-python",
   "name": "python",
   "nbconvert_exporter": "python",
   "pygments_lexer": "ipython3",
   "version": "3.5.2"
  }
 },
 "nbformat": 4,
 "nbformat_minor": 2
}